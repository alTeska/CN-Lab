{
 "cells": [
  {
   "cell_type": "markdown",
   "metadata": {},
   "source": [
    "# Hodking-Huxley Model \n",
    "\n",
    "Full model is given by equations for m,n,h given by calculated alpha and beta parameters. \n",
    "Additionally there is given an equation from the currents in equivalent ciurcut\n",
    "\n",
    "<equation>\n",
    "\n",
    "List of helper functions and constans:"
   ]
  },
  {
   "cell_type": "code",
   "execution_count": null,
   "metadata": {
    "collapsed": true
   },
   "outputs": [],
   "source": [
    "##Hodgkin-Huxley Model - class 2\n",
    "import matplotlib.pyplot as plt\n",
    "import numpy as np\n",
    "import scipy as sp\n",
    "\n",
    "# Constants\n",
    "C_m  =   0.1 #membrane capacitance, in uF/cm^2\n",
    "g_Na = 120.0 #maximum conducances, in mS/cm^2\n",
    "g_K  =  36.0\n",
    "g_L  =   0.3\n",
    "E_Na =  55.0 #Nernst reversal potentials, in mV\n",
    "E_K  = -75.0\n",
    "E_L  = -69\n",
    "\n",
    "##non-linear paramiters alfa and beta\n",
    "def alpha_m(u): return (2.5 - 0.1 * (u + 65)) / (np.exp(2.5 - 0.1 * (u + 65)) - 1)\n",
    "def alpha_n(u): return (0.1 - 0.01 * (u + 65)) / (np.exp(1 - 0.1 * (u + 65)) - 1)\n",
    "def alpha_h(u): return (0.07 * np.exp((-u - 65) / 20))\n",
    "def beta_m(u):  return 4 * np.exp((-u - 65) / 18)\n",
    "def beta_n(u):  return 0.125 * np.exp((-u - 65) / 80)\n",
    "def beta_h(u):  return 1 / (np.exp(3 - 0.1 * (u + 65)) + 1)\n",
    "\n",
    "#Membrane currents\n",
    "def I_Na(u, m, h): return g_Na * m**3 * h * (u - E_Na)  #sodium channel\n",
    "def I_K (u, n   ): return g_K  * n**4     * (u - E_K)   #potas\n",
    "def I_L (u      ): return g_L             * (u - E_L)\n",
    "\n",
    "# F: < m,n,h>\n",
    "def dm_du(m, u): return alpha_m(u) * (1 - m) - beta_m(u) * m\n",
    "def dn_du(n, u): return alpha_n(u) * (1 - n) - beta_n(u) * n\n",
    "def dh_du(h, u): return alpha_h(u) * (1 - h) - beta_h(u) * h\n",
    "def du_du(u, m, n, h, I=0): return (I_Na(u, m, h) + I_K(u, n) + I_L(u) - I)/ -C_m\n",
    "\n",
    "#compute steady state values - system specification (starting points)\n",
    "def MSS(u): return alpha_m(u) / (alpha_m(u) + beta_m(u))\n",
    "def NSS(u): return alpha_n(u) / (alpha_n(u) + beta_n(u))\n",
    "def HSS(u): return alpha_h(u) / (alpha_h(u) + beta_h(u))\n"
   ]
  },
  {
   "cell_type": "markdown",
   "metadata": {},
   "source": [
    "## Current sources \n"
   ]
  },
  {
   "cell_type": "code",
   "execution_count": null,
   "metadata": {
    "collapsed": true
   },
   "outputs": [],
   "source": []
  },
  {
   "cell_type": "markdown",
   "metadata": {},
   "source": [
    "## Model as a function\n"
   ]
  },
  {
   "cell_type": "code",
   "execution_count": null,
   "metadata": {
    "collapsed": true
   },
   "outputs": [],
   "source": []
  }
 ],
 "metadata": {
  "kernelspec": {
   "display_name": "Python 3",
   "language": "python",
   "name": "python3"
  },
  "language_info": {
   "codemirror_mode": {
    "name": "ipython",
    "version": 3
   },
   "file_extension": ".py",
   "mimetype": "text/x-python",
   "name": "python",
   "nbconvert_exporter": "python",
   "pygments_lexer": "ipython3",
   "version": "3.6.3"
  }
 },
 "nbformat": 4,
 "nbformat_minor": 2
}
